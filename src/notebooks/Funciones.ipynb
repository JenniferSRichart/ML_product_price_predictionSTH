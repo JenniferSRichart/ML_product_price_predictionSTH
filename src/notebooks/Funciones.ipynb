{
 "cells": [
  {
   "cell_type": "code",
   "execution_count": 1,
   "source": [
    "import pandas as pd\n",
    "import numpy as np\n",
    "import seaborn as sns\n",
    "import sys, os\n",
    "import matplotlib.pyplot as plt\n",
    "from scipy.stats import shapiro, skew, iqr"
   ],
   "outputs": [],
   "metadata": {}
  },
  {
   "cell_type": "markdown",
   "source": [
    "# Para Limpieza de data"
   ],
   "metadata": {}
  },
  {
   "cell_type": "code",
   "execution_count": null,
   "source": [
    "def get_root_path(n):\n",
    "    '''\n",
    "    Esta función nos permite iterar sobre carpetas para añadir el path de nuestra carpeta raíz\n",
    "    Argumentos:\n",
    "        - n (int): el número de veces que iteraremos para llegar a la carpeta deseada\n",
    "    '''\n",
    "    path = os.getcwd() # para notebook ||| __file__ --> para .py\n",
    "    for i in range(n):\n",
    "        path = os.path.dirname(path)\n",
    "    print(path)\n",
    "    sys.path.append(path)"
   ],
   "outputs": [],
   "metadata": {}
  },
  {
   "cell_type": "code",
   "execution_count": 1,
   "source": [
    "def mapping_SEGMENTO(x):\n",
    "    ''' Codifica los Segmento del Dataset en valor numerico'''\n",
    "    if x == 'CO':\n",
    "        return 1\n",
    "    else:\n",
    "        return 0"
   ],
   "outputs": [],
   "metadata": {}
  },
  {
   "cell_type": "code",
   "execution_count": 2,
   "source": [
    "def mapping_REGION(x):\n",
    "    ''' Codifica las Regiones del Dataset en valor numerico'''\n",
    "    if x == 'CA':\n",
    "        return 1\n",
    "    elif x == 'GG':\n",
    "        return 2\n",
    "    elif x == 'SG':\n",
    "        return 3\n",
    "    elif x == 'MN':\n",
    "        return 4\n",
    "    else:\n",
    "        return 5"
   ],
   "outputs": [],
   "metadata": {}
  },
  {
   "cell_type": "code",
   "execution_count": 3,
   "source": [
    "def mapping_ITEM(x):\n",
    "    ''' Codifica los Items del Dataset en valor numerico'''\n",
    "    if x == 'La Crème Essentielle':\n",
    "        return 1\n",
    "    elif (x == 'All Purpose P.9104') or (x == 'ALL PURPOSE 300ML'):\n",
    "        return 2\n",
    "    elif x == 'CREMA REAFIRM COLLAGEN':\n",
    "        return 3\n",
    "    else:\n",
    "        return 4"
   ],
   "outputs": [],
   "metadata": {}
  },
  {
   "cell_type": "code",
   "execution_count": 4,
   "source": [
    "def mapping_PROMO(x):\n",
    "    ''' Codifica las Promociones del Dataset en valor numerico'''\n",
    "    if x == '2x1':\n",
    "        return 1\n",
    "    elif x == 'desc directo':\n",
    "        return 2\n",
    "    elif x == 'set':\n",
    "        return 3\n",
    "    elif x == 'set solo para altas':\n",
    "        return 3\n",
    "    else:\n",
    "        return 4"
   ],
   "outputs": [],
   "metadata": {}
  },
  {
   "cell_type": "code",
   "execution_count": null,
   "source": [
    "def mapping_MONTH(x):\n",
    "    ''' Codifica los Meses segun ciclo del Dataset en valor numerico'''\n",
    "    if x == '01':\n",
    "        return 1\n",
    "    elif (x == '02') or (x == '03'):\n",
    "        return 2\n",
    "    elif x == '04':\n",
    "        return 3\n",
    "    elif (x == '05') or (x == '06'):\n",
    "        return 4\n",
    "    elif x == '07':\n",
    "        return 5\n",
    "    elif (x == '08') or (x == '09'):\n",
    "        return 6\n",
    "    elif x == '10':\n",
    "        return 7\n",
    "    elif x == '11':\n",
    "        return 8\n",
    "    elif (x == '12') or (x == '13'):\n",
    "        return 9\n",
    "    elif (x == '14') or (x == '15'):\n",
    "        return 10\n",
    "    elif x == '16':\n",
    "        return 11\n",
    "    else:\n",
    "        return 12"
   ],
   "outputs": [],
   "metadata": {}
  },
  {
   "cell_type": "markdown",
   "source": [
    "# Para Analisis de Data"
   ],
   "metadata": {}
  },
  {
   "cell_type": "code",
   "execution_count": 9,
   "source": [
    "def data_report(df):\n",
    "    ''' Indica metricas como tipo de dato, valores unicos y  valores faltantes'''\n",
    "    # Sacamos los NOMBRES\n",
    "    cols = pd.DataFrame(df.columns.values, columns=[\"COL_N\"])\n",
    "\n",
    "    # Sacamos los TIPOS\n",
    "    types = pd.DataFrame(df.dtypes.values, columns=[\"DATA_TYPE\"])\n",
    "\n",
    "    # Sacamos los MISSINGS\n",
    "    percent_missing = round(df.isnull().sum() * 100 / len(df), 2)\n",
    "    percent_missing_df = pd.DataFrame(percent_missing.values, columns=[\"MISSINGS (%)\"])\n",
    "\n",
    "    # Sacamos los VALORES UNICOS\n",
    "    unicos = pd.DataFrame(df.nunique().values, columns=[\"UNIQUE_VALUES\"])\n",
    "    \n",
    "    percent_cardin = round(unicos['UNIQUE_VALUES']*100/len(df), 2)\n",
    "    percent_cardin_df = pd.DataFrame(percent_cardin.values, columns=[\"CARDIN (%)\"])\n",
    "\n",
    "    concatenado = pd.concat([cols, types, percent_missing_df, unicos, percent_cardin_df], axis=1, sort=False)\n",
    "    concatenado.set_index('COL_N', drop=True, inplace=True)\n",
    "\n",
    "\n",
    "    return concatenado.T"
   ],
   "outputs": [],
   "metadata": {}
  },
  {
   "cell_type": "code",
   "execution_count": 10,
   "source": [
    "def plot_df(df, x, y, title, xlabel, ylabel, dpi=100):\n",
    "    ''' Grafica figura en base a 2 variables'''\n",
    "    plt.figure(figsize=(16,5), dpi=dpi)\n",
    "    plt.plot(x, y, color='tab:red')\n",
    "    plt.gca().set(title=title, xlabel=xlabel, ylabel=ylabel)\n",
    "    plt.show()"
   ],
   "outputs": [],
   "metadata": {}
  },
  {
   "cell_type": "code",
   "execution_count": 11,
   "source": [
    "def outliers_quantie(df, feature, param=1.5):  \n",
    "        \n",
    "    iqr_ = iqr(df[feature], nan_policy='omit')\n",
    "    q1 = np.nanpercentile(df[feature], 25)\n",
    "    q3 = np.nanpercentile(df[feature], 75)\n",
    "    th1 = q1 - iqr_*param\n",
    "    th2 = q3 + iqr_*param\n",
    "    \n",
    "    return df[(df[feature] >= th1) & (df[feature] <= th2)].reset_index(drop=True)"
   ],
   "outputs": [],
   "metadata": {}
  }
 ],
 "metadata": {
  "orig_nbformat": 4,
  "language_info": {
   "name": "python",
   "version": "3.7.4",
   "mimetype": "text/x-python",
   "codemirror_mode": {
    "name": "ipython",
    "version": 3
   },
   "pygments_lexer": "ipython3",
   "nbconvert_exporter": "python",
   "file_extension": ".py"
  },
  "kernelspec": {
   "name": "python3",
   "display_name": "Python 3.7.4 64-bit"
  },
  "interpreter": {
   "hash": "aee8b7b246df8f9039afb4144a1f6fd8d2ca17a180786b69acc140d282b71a49"
  }
 },
 "nbformat": 4,
 "nbformat_minor": 2
}