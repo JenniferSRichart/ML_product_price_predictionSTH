{
 "cells": [
  {
   "cell_type": "markdown",
   "source": [
    "Se crea este documento debido a que en la Mac se hace complicado el uso de XGBoost, asi que se intenta probar el modelo en un PC.  "
   ],
   "metadata": {}
  },
  {
   "cell_type": "markdown",
   "source": [
    "## Cargamos librerias"
   ],
   "metadata": {}
  },
  {
   "cell_type": "code",
   "execution_count": null,
   "source": [
    "import xgboost as xg\n",
    "from xgboost import XGBClassifier\n",
    "import pandas as pd\n",
    "import seaborn as sns\n",
    "import numpy as np\n",
    "from sklearn.model_selection import train_test_split\n",
    "from sklearn import preprocessing, metrics\n",
    "from sklearn.metrics import r2_score"
   ],
   "outputs": [],
   "metadata": {}
  },
  {
   "cell_type": "markdown",
   "source": [
    "## Data Producto 1"
   ],
   "metadata": {}
  },
  {
   "cell_type": "code",
   "execution_count": null,
   "source": [
    "df_1 = pd.read_excel(\"../data/processed/df_1.xlsx\", index_col = 0)\n",
    "df_1 = df_1[['REGION_ID','CICLO', 'YEAR', 'MONTH', 'ID_STANHOME', '%DTO.', 'PAGINA',\n",
    "       'COD-MOV.', 'PVP','PVP_TOT_FACTURA', 'PROMO_ID']]\n",
    "df_1.dropna()\n",
    "X1 = df_1.drop(['PVP'], axis=1)     \n",
    "y1 = df_1['PVP']\n",
    "X1_train, X1_test, y1_train, y1_test = train_test_split(X1, y1, test_size = 0.20, random_state = 42)"
   ],
   "outputs": [],
   "metadata": {}
  },
  {
   "cell_type": "markdown",
   "source": [
    "## Modelo Producto 1"
   ],
   "metadata": {}
  },
  {
   "cell_type": "code",
   "execution_count": null,
   "source": [
    "xgbcl = XGBClassifier()\n",
    "xgbcl.fit(X1_train, y1_train)\n",
    "predicciones_xgbcl = xgbcl.predict(X1_test)\n",
    "print('MAE_test:', metrics.mean_absolute_error(y1_test, predicciones_xgbcl))\n",
    "print('MSE_test:', metrics.mean_squared_error(y1_test, predicciones_xgbcl))\n",
    "print('RMSE_test:', np.sqrt(metrics.mean_squared_error(y1_test, predicciones_xgbcl))\n",
    "print('r2_SCORE_test:', r2_score(y1_test, predicciones_xgbcl))\n",
    "sns.scatterplot(y1_test, predicciones_xgbcl);"
   ],
   "outputs": [],
   "metadata": {}
  },
  {
   "cell_type": "markdown",
   "source": [
    "## Data Producto 2"
   ],
   "metadata": {}
  },
  {
   "cell_type": "code",
   "execution_count": null,
   "source": [
    "df_2 = pd.read_excel(\"../data/processed/df_2.xlsx\", index_col = 0)\n",
    "df_2 = df_2[['REGION_ID','CICLO', 'YEAR', 'MONTH', 'ID_STANHOME', '%DTO.', 'PAGINA',\n",
    "       'COD-MOV.', 'PVP','PVP_TOT_FACTURA', 'PROMO_ID']]\n",
    "df_2.dropna()\n",
    "X2 = df_2.drop(['PVP'], axis=1)     \n",
    "y2 = df_2['PVP']\n",
    "X2_train, X2_test, y2_train, y2_test = train_test_split(X2, y2, test_size = 0.20, random_state = 42)"
   ],
   "outputs": [],
   "metadata": {}
  },
  {
   "cell_type": "markdown",
   "source": [
    "## Modelo Producto 2"
   ],
   "metadata": {}
  },
  {
   "cell_type": "code",
   "execution_count": null,
   "source": [
    "xgbcl = XGBClassifier()\n",
    "xgbcl.fit(X2_train, y2_train)\n",
    "predicciones_xgbcl = xgbcl.predict(X2_test)\n",
    "print('MAE_test:', metrics.mean_absolute_error(y2_test, predicciones_xgbcl))\n",
    "print('MSE_test:', metrics.mean_squared_error(y2_test, predicciones_xgbcl))\n",
    "print('RMSE_test:', np.sqrt(metrics.mean_squared_error(y2_test, predicciones_xgbcl))\n",
    "print('r2_SCORE_test:', r2_score(y2_test, predicciones_xgbcl))\n",
    "sns.scatterplot(y2_test, predicciones_xgbcl);"
   ],
   "outputs": [],
   "metadata": {}
  }
 ],
 "metadata": {
  "orig_nbformat": 4,
  "language_info": {
   "name": "python"
  }
 },
 "nbformat": 4,
 "nbformat_minor": 2
}